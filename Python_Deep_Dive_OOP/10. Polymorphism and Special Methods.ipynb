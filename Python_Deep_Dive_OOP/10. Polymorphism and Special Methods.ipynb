{
 "cells": [
  {
   "cell_type": "markdown",
   "metadata": {},
   "source": [
    "## Polymorphism\n",
    "\n",
    "it's the ability to define a generic type of behaviour that wil (potentially) behave diffenretly when applied to diffrent types."
   ]
  },
  {
   "cell_type": "markdown",
   "metadata": {},
   "source": [
    "python is very polymorhic in nature\n",
    "\n",
    "-> **duck typing**\n",
    "      * if it walks like a duck, it talks like a duck then it's a duck.\n",
    "      \n",
    "-> e.g. when we iterate over a collection\n",
    "      * object just need to support the protocol.\n",
    "     "
   ]
  },
  {
   "cell_type": "markdown",
   "metadata": {},
   "source": [
    "\n",
    "***does it matter if the collection is a list or tuple or dictionary or a generator.***\n",
    "\n",
    "No- it doesn't as long as it supports the iterator protocol when we call `iter()` to get an iterator, that itself can be anything as long as it implements the **iterator** protocol."
   ]
  },
  {
   "cell_type": "markdown",
   "metadata": {},
   "source": [
    "similarly , operator such as +, -, *, / are polymorphic as they support different types like integers, floats, complex numbers, lists, tuples, custom objects."
   ]
  },
  {
   "cell_type": "markdown",
   "metadata": {},
   "source": [
    "we can add our support to our own classes for the `+` operator by implementing `__add__` method."
   ]
  },
  {
   "cell_type": "code",
   "execution_count": null,
   "metadata": {},
   "outputs": [],
   "source": []
  },
  {
   "cell_type": "code",
   "execution_count": null,
   "metadata": {},
   "outputs": [],
   "source": []
  },
  {
   "cell_type": "markdown",
   "metadata": {},
   "source": [
    "## Special Methods"
   ]
  },
  {
   "cell_type": "markdown",
   "metadata": {},
   "source": [
    "we can add our support in our classes for many of python's functionality using special methods."
   ]
  },
  {
   "cell_type": "markdown",
   "metadata": {},
   "source": [
    "**Note: These methods are also knowna s dunder methods (starts with double underscore and ends woth double underscore)**\n",
    "\n",
    "Example: `__init__, __add__, __str__, __repr__, __iter__, __next__` etc"
   ]
  },
  {
   "cell_type": "markdown",
   "metadata": {},
   "source": [
    "Note: **Never use this naming standard for your own methods or attributes**"
   ]
  },
  {
   "cell_type": "code",
   "execution_count": null,
   "metadata": {},
   "outputs": [],
   "source": []
  }
 ],
 "metadata": {
  "kernelspec": {
   "display_name": "Python 3",
   "language": "python",
   "name": "python3"
  },
  "language_info": {
   "codemirror_mode": {
    "name": "ipython",
    "version": 3
   },
   "file_extension": ".py",
   "mimetype": "text/x-python",
   "name": "python",
   "nbconvert_exporter": "python",
   "pygments_lexer": "ipython3",
   "version": "3.7.2"
  }
 },
 "nbformat": 4,
 "nbformat_minor": 2
}

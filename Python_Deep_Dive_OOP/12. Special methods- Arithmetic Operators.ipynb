{
 "cells": [
  {
   "cell_type": "markdown",
   "metadata": {},
   "source": [
    "#### Special Arithmetic Operators"
   ]
  },
  {
   "cell_type": "markdown",
   "metadata": {},
   "source": [
    "`__add__`    + <br>\n",
    "`__sub__`    - <br>\n",
    "`__mul__`    * <br>\n",
    "`__truediv__` /<br>\n",
    "`__floordiv__`  // <br>\n",
    "`__mod__`    %<br>\n",
    "`__pow__`    ** <br>\n",
    "`__matmul__`   : new in >=3.5\n",
    "\n",
    "etc.\n",
    "\n",
    "\n",
    "\n",
    "---> To indicate the operstion is not supported, implement method and return **`return NotImplemented`**"
   ]
  },
  {
   "cell_type": "markdown",
   "metadata": {},
   "source": [
    "##### Special Methods: reflected operator\n",
    "\n",
    "* `a + b`: Python wil call `a.__add__(b)`\n",
    "\n",
    "    * if this returns `NotImplemented AND` operands are not the `same type`\n",
    "        * Python will swap the operands and try this instead: `b.__radd__(a)`\n",
    "        \n",
    "similarly there are `__radd__, __rsub__, __rmul__, __rtruediv__, __rfloordiv__, __rmod__, __rpow__`"
   ]
  },
  {
   "cell_type": "markdown",
   "metadata": {},
   "source": [
    "###### Special Methods: in-place operators\n",
    "\n",
    "1. `__iadd__: +=`\n",
    "2. `__isub__: -=`\n",
    "3. `__imul__: *=`\n",
    "4. `__itruediv__: /=`\n",
    "5. `__ifloordiv__: //=`\n",
    "6. `__imod__: %=`\n",
    "7. `__ipow__: **=`\n",
    "\n",
    "etc."
   ]
  },
  {
   "cell_type": "markdown",
   "metadata": {},
   "source": [
    "###### Special Methods: Unary Operators, functions\n",
    "\n",
    "1. `__neg__ (negation): -a`\n",
    "2. `__pos__:            +a`\n",
    "3. `__abs__:           abs(a)`\n",
    "\n",
    "etc."
   ]
  },
  {
   "cell_type": "markdown",
   "metadata": {},
   "source": [
    "\n",
    "Let's say we want to implement a Vector class that supports various arithmetic operations. We won't assume a specific number of dimensions - that will be determined by how many arguments are passed to the __init__ method. We will however require the arguments to be Real numbers."
   ]
  },
  {
   "cell_type": "code",
   "execution_count": 1,
   "metadata": {},
   "outputs": [],
   "source": [
    "from numbers import Real\n",
    "\n",
    "class Vector:\n",
    "    def __init__(self, *components):\n",
    "        # validate number of components is at least one, and all of them are real numbers\n",
    "        if len(components) < 1:\n",
    "            raise ValueError('Cannot create an empty Vector.')\n",
    "        for component in components:\n",
    "            if not isinstance(component, Real):\n",
    "                raise ValueError(f'Vector components must all be real numbers - {component} is invalid.')\n",
    "        \n",
    "        # use immutable storage for vector\n",
    "        self._components = tuple(components)\n",
    "        \n",
    "    def __len__(self):\n",
    "        return len(self._components)\n",
    "        \n",
    "    @property\n",
    "    def components(self):\n",
    "        return self._components\n",
    "    \n",
    "    def __repr__(self):\n",
    "        # works - but unwieldy for high dimension vectors\n",
    "        return f'Vector{self._components}'"
   ]
  },
  {
   "cell_type": "markdown",
   "metadata": {},
   "source": [
    "\n",
    "Now, let's support addition and subtraction of vectors - they'll need to be of the same dimension, othwerwise we should raise a TypeError exception (consistent with the exception Python raises if you try to add a string and an int for example)."
   ]
  },
  {
   "cell_type": "code",
   "execution_count": 2,
   "metadata": {},
   "outputs": [],
   "source": [
    "\n",
    "from numbers import Real\n",
    "\n",
    "class Vector:\n",
    "    def __init__(self, *components):\n",
    "        # validate number of components is at least one, and all of them are real numbers\n",
    "        if len(components) < 1:\n",
    "            raise ValueError('Cannot create an empty Vector.')\n",
    "        for component in components:\n",
    "            if not isinstance(component, Real):\n",
    "                raise ValueError(f'Vector components must all be real numbers - {component} is invalid.')\n",
    "        \n",
    "        # use immutable storage for vector\n",
    "        self._components = tuple(components)\n",
    "        \n",
    "    def __len__(self):\n",
    "        return len(self._components)\n",
    "        \n",
    "    @property\n",
    "    def components(self):\n",
    "        return self._components\n",
    "    \n",
    "    def __repr__(self):\n",
    "        # works - but unwieldy for high dimension vectors\n",
    "        return f'Vector{self._components}'\n",
    "    \n",
    "    def validate_type_and_dimension(self, v):\n",
    "        return isinstance(v, Vector) and len(v) == len(self)\n",
    "            \n",
    "    def __add__(self, other):\n",
    "        if not self.validate_type_and_dimension(other):\n",
    "            return NotImplemented\n",
    "        components = (x + y for x, y in zip(self.components, other.components))\n",
    "        return Vector(*components)\n",
    "            \n",
    "    def __sub__(self, other):\n",
    "        if not self.validate_type_and_dimension(other):\n",
    "            return NotImplemented\n",
    "        components = (x - y for x, y in zip(self.components, other.components))\n",
    "        return Vector(*components)"
   ]
  },
  {
   "cell_type": "code",
   "execution_count": 3,
   "metadata": {},
   "outputs": [],
   "source": [
    "v1 = Vector(1, 2)\n",
    "v2 = Vector(10, 10)\n",
    "v3 = Vector(1, 2, 3, 4)"
   ]
  },
  {
   "cell_type": "code",
   "execution_count": 4,
   "metadata": {},
   "outputs": [
    {
     "data": {
      "text/plain": [
       "Vector(1, 2)"
      ]
     },
     "execution_count": 4,
     "metadata": {},
     "output_type": "execute_result"
    }
   ],
   "source": [
    "v1"
   ]
  },
  {
   "cell_type": "code",
   "execution_count": 5,
   "metadata": {},
   "outputs": [
    {
     "data": {
      "text/plain": [
       "Vector(11, 12)"
      ]
     },
     "execution_count": 5,
     "metadata": {},
     "output_type": "execute_result"
    }
   ],
   "source": [
    "v1+v2"
   ]
  },
  {
   "cell_type": "code",
   "execution_count": 6,
   "metadata": {},
   "outputs": [
    {
     "data": {
      "text/plain": [
       "Vector(11, 12)"
      ]
     },
     "execution_count": 6,
     "metadata": {},
     "output_type": "execute_result"
    }
   ],
   "source": [
    "v2+v1"
   ]
  },
  {
   "cell_type": "code",
   "execution_count": 7,
   "metadata": {},
   "outputs": [
    {
     "name": "stdout",
     "output_type": "stream",
     "text": [
      "unsupported operand type(s) for +: 'Vector' and 'Vector'\n"
     ]
    }
   ],
   "source": [
    "\n",
    "try:\n",
    "    print(v1 + v3)\n",
    "except TypeError as ex:\n",
    "    print(ex)"
   ]
  },
  {
   "cell_type": "code",
   "execution_count": 8,
   "metadata": {},
   "outputs": [
    {
     "name": "stdout",
     "output_type": "stream",
     "text": [
      "unsupported operand type(s) for +: 'Vector' and 'int'\n"
     ]
    }
   ],
   "source": [
    "\n",
    "try:\n",
    "    print(v1 + 100)\n",
    "except TypeError as ex:\n",
    "    print(ex)"
   ]
  },
  {
   "cell_type": "markdown",
   "metadata": {},
   "source": [
    "Now, let's add support for multiplication by a scalar value - e.g. multipliying a vector by a real num ber (not another vector).\n",
    "\n",
    "To do that we'll implement the `__mul__` method:"
   ]
  },
  {
   "cell_type": "code",
   "execution_count": 9,
   "metadata": {},
   "outputs": [],
   "source": [
    "\n",
    "from numbers import Real\n",
    "\n",
    "class Vector:\n",
    "    def __init__(self, *components):\n",
    "        # validate number of components is at least one, and all of them are real numbers\n",
    "        if len(components) < 1:\n",
    "            raise ValueError('Cannot create an empty Vector.')\n",
    "        for component in components:\n",
    "            if not isinstance(component, Real):\n",
    "                raise ValueError(f'Vector components must all be real numbers - {component} is invalid.')\n",
    "        \n",
    "        # use immutable storage for vector\n",
    "        self._components = tuple(components)\n",
    "        \n",
    "    def __len__(self):\n",
    "        return len(self._components)\n",
    "        \n",
    "    @property\n",
    "    def components(self):\n",
    "        return self._components\n",
    "    \n",
    "    def __repr__(self):\n",
    "        # works - but unwieldy for high dimension vectors\n",
    "        return f'Vector{self._components}'\n",
    "    \n",
    "    def validate_type_and_dimension(self, v):\n",
    "        return isinstance(v, Vector) and len(v) == len(self)\n",
    "            \n",
    "    def __add__(self, other):\n",
    "        if not self.validate_type_and_dimension(other):\n",
    "            return NotImplemented\n",
    "        components = (x + y for x, y in zip(self.components, other.components))\n",
    "        return Vector(*components)\n",
    "            \n",
    "    def __sub__(self, other):\n",
    "        if not self.validate_type_and_dimension(other):\n",
    "            return NotImplemented\n",
    "        components = (x - y for x, y in zip(self.components, other.components))\n",
    "        return Vector(*components)\n",
    "    \n",
    "    def __mul__(self, other):\n",
    "        print('__mul__ called...')\n",
    "        if not isinstance(other, Real):\n",
    "            return NotImplemented\n",
    "        components = (other * x for x in self.components)\n",
    "        return Vector(*components)"
   ]
  },
  {
   "cell_type": "code",
   "execution_count": 10,
   "metadata": {},
   "outputs": [],
   "source": [
    "v1 = Vector(1, 2)"
   ]
  },
  {
   "cell_type": "code",
   "execution_count": 11,
   "metadata": {},
   "outputs": [
    {
     "name": "stdout",
     "output_type": "stream",
     "text": [
      "__mul__ called...\n"
     ]
    },
    {
     "data": {
      "text/plain": [
       "Vector(10, 20)"
      ]
     },
     "execution_count": 11,
     "metadata": {},
     "output_type": "execute_result"
    }
   ],
   "source": [
    "v1 * 10"
   ]
  },
  {
   "cell_type": "code",
   "execution_count": 12,
   "metadata": {},
   "outputs": [
    {
     "ename": "TypeError",
     "evalue": "unsupported operand type(s) for *: 'int' and 'Vector'",
     "output_type": "error",
     "traceback": [
      "\u001b[1;31m---------------------------------------------------------------------------\u001b[0m",
      "\u001b[1;31mTypeError\u001b[0m                                 Traceback (most recent call last)",
      "\u001b[1;32m<ipython-input-12-2d7478d110b8>\u001b[0m in \u001b[0;36m<module>\u001b[1;34m\u001b[0m\n\u001b[1;32m----> 1\u001b[1;33m \u001b[1;36m10\u001b[0m\u001b[1;33m*\u001b[0m\u001b[0mv1\u001b[0m\u001b[1;33m\u001b[0m\u001b[1;33m\u001b[0m\u001b[0m\n\u001b[0m",
      "\u001b[1;31mTypeError\u001b[0m: unsupported operand type(s) for *: 'int' and 'Vector'"
     ]
    }
   ],
   "source": [
    "10*v1"
   ]
  },
  {
   "cell_type": "markdown",
   "metadata": {},
   "source": [
    "\n",
    "What happened here is that Python first tried calling the addition operation on the int object, using the Vector as the second operand. Integers of course do no support this type, so Python tried using our Vector class - but not the `__mul__` since that is called when the Vector is the left operand. Instead, it is looking for (and does not find) a method to use when the Vector is the right operand.\n",
    "\n",
    "We can implement this method, using `__rmul__`:"
   ]
  },
  {
   "cell_type": "code",
   "execution_count": 13,
   "metadata": {},
   "outputs": [],
   "source": [
    "from numbers import Real\n",
    "\n",
    "class Vector:\n",
    "    def __init__(self, *components):\n",
    "        # validate number of components is at least one, and all of them are real numbers\n",
    "        if len(components) < 1:\n",
    "            raise ValueError('Cannot create an empty Vector.')\n",
    "        for component in components:\n",
    "            if not isinstance(component, Real):\n",
    "                raise ValueError(f'Vector components must all be real numbers - {component} is invalid.')\n",
    "        \n",
    "        # use immutable storage for vector\n",
    "        self._components = tuple(components)\n",
    "        \n",
    "    def __len__(self):\n",
    "        return len(self._components)\n",
    "        \n",
    "    @property\n",
    "    def components(self):\n",
    "        return self._components\n",
    "    \n",
    "    def __repr__(self):\n",
    "        # works - but unwieldy for high dimension vectors\n",
    "        return f'Vector{self._components}'\n",
    "    \n",
    "    def validate_type_and_dimension(self, v):\n",
    "        return isinstance(v, Vector) and len(v) == len(self)\n",
    "            \n",
    "    def __add__(self, other):\n",
    "        if not self.validate_type_and_dimension(other):\n",
    "            return NotImplemented\n",
    "        components = (x + y for x, y in zip(self.components, other.components))\n",
    "        return Vector(*components)\n",
    "            \n",
    "    def __sub__(self, other):\n",
    "        if not self.validate_type_and_dimension(other):\n",
    "            return NotImplemented\n",
    "        components = (x - y for x, y in zip(self.components, other.components))\n",
    "        return Vector(*components)\n",
    "    \n",
    "    def __mul__(self, other):\n",
    "        print('__mul__ called...')\n",
    "        if not isinstance(other, Real):\n",
    "            return NotImplemented\n",
    "        components = (other * x for x in self.components)\n",
    "        return Vector(*components)\n",
    "    \n",
    "    def __rmul__(self, other):\n",
    "        print('__rmul__ called...')\n",
    "        # for us, multiplication is commutative, so we can leverage our existing __mul__ method\n",
    "        return self * other\n"
   ]
  },
  {
   "cell_type": "code",
   "execution_count": 14,
   "metadata": {},
   "outputs": [],
   "source": [
    "v1 = Vector(10,29)"
   ]
  },
  {
   "cell_type": "code",
   "execution_count": 15,
   "metadata": {},
   "outputs": [
    {
     "name": "stdout",
     "output_type": "stream",
     "text": [
      "__rmul__ called...\n",
      "__mul__ called...\n"
     ]
    },
    {
     "data": {
      "text/plain": [
       "Vector(100, 290)"
      ]
     },
     "execution_count": 15,
     "metadata": {},
     "output_type": "execute_result"
    }
   ],
   "source": [
    "10*v1"
   ]
  },
  {
   "cell_type": "code",
   "execution_count": 16,
   "metadata": {},
   "outputs": [
    {
     "name": "stdout",
     "output_type": "stream",
     "text": [
      "__mul__ called...\n"
     ]
    },
    {
     "data": {
      "text/plain": [
       "Vector(100, 290)"
      ]
     },
     "execution_count": 16,
     "metadata": {},
     "output_type": "execute_result"
    }
   ],
   "source": [
    "v1*10"
   ]
  },
  {
   "cell_type": "markdown",
   "metadata": {},
   "source": [
    "Now, let's say we want to implement the dot product of two vectors.\n",
    "\n",
    "If you are rusty on this, just do a quick read of this: https://en.wikipedia.org/wiki/Dot_product\n",
    "\n",
    "Basically we need vectors of equal dimension, and we calculate the sum of the product of components (pairwise) in each vector.\n",
    "\n",
    "We can implement it by differentiating between a Real and Vector type in our `__mul__` method - of course we won't need it in the `__rmul__` method because if we implement multiplication between two Vectors we'll always have a Vector as the left operand, so `__mul__` will get called first."
   ]
  },
  {
   "cell_type": "code",
   "execution_count": 17,
   "metadata": {},
   "outputs": [],
   "source": [
    "from numbers import Real\n",
    "\n",
    "class Vector:\n",
    "    def __init__(self, *components):\n",
    "        # validate number of components is at least one, and all of them are real numbers\n",
    "        if len(components) < 1:\n",
    "            raise ValueError('Cannot create an empty Vector.')\n",
    "        for component in components:\n",
    "            if not isinstance(component, Real):\n",
    "                raise ValueError(f'Vector components must all be real numbers - {component} is invalid.')\n",
    "        \n",
    "        # use immutable storage for vector\n",
    "        self._components = tuple(components)\n",
    "        \n",
    "    def __len__(self):\n",
    "        return len(self._components)\n",
    "        \n",
    "    @property\n",
    "    def components(self):\n",
    "        return self._components\n",
    "    \n",
    "    def __repr__(self):\n",
    "        # works - but unwieldy for high dimension vectors\n",
    "        return f'Vector{self._components}'\n",
    "    \n",
    "    def validate_type_and_dimension(self, v):\n",
    "        return isinstance(v, Vector) and len(v) == len(self)\n",
    "            \n",
    "    def __add__(self, other):\n",
    "        if not self.validate_type_and_dimension(other):\n",
    "            return NotImplemented\n",
    "        components = (x + y for x, y in zip(self.components, other.components))\n",
    "        return Vector(*components)\n",
    "            \n",
    "    def __sub__(self, other):\n",
    "        if not self.validate_type_and_dimension(other):\n",
    "            return NotImplemented\n",
    "        components = (x - y for x, y in zip(self.components, other.components))\n",
    "        return Vector(*components)\n",
    "    \n",
    "    def __mul__(self, other):\n",
    "        print('__mul__ called...')\n",
    "        if isinstance(other, Real):\n",
    "            components = (other * x for x in self.components)\n",
    "            return Vector(*components)\n",
    "        if self.validate_type_and_dimension(other):\n",
    "            # dot product\n",
    "            components = (x * y for x, y in zip(self.components, other.components))\n",
    "            return sum(components)\n",
    "        return NotImplemented\n",
    "    \n",
    "    def __rmul__(self, other):\n",
    "        print('__rmul__ called...')\n",
    "        # for us, multiplication is commutative, so we can leverage our existing __mul__ method\n",
    "        return self * other\n"
   ]
  },
  {
   "cell_type": "code",
   "execution_count": 18,
   "metadata": {},
   "outputs": [
    {
     "name": "stdout",
     "output_type": "stream",
     "text": [
      "__mul__ called...\n"
     ]
    },
    {
     "data": {
      "text/plain": [
       "23"
      ]
     },
     "execution_count": 18,
     "metadata": {},
     "output_type": "execute_result"
    }
   ],
   "source": [
    "v1 = Vector(2,3)\n",
    "v2 = Vector(4,5)\n",
    "\n",
    "v1*v2"
   ]
  },
  {
   "cell_type": "markdown",
   "metadata": {},
   "source": [
    "We could also implement the cross product of two vectors (which would return another vector).\n",
    "\n",
    "The calculations get a little more complicated, so I won't show you those details, but let's see how we could use the **`@`** operator to implement this:"
   ]
  },
  {
   "cell_type": "code",
   "execution_count": 19,
   "metadata": {},
   "outputs": [],
   "source": [
    "from numbers import Real\n",
    "\n",
    "class Vector:\n",
    "    def __init__(self, *components):\n",
    "        # validate number of components is at least one, and all of them are real numbers\n",
    "        if len(components) < 1:\n",
    "            raise ValueError('Cannot create an empty Vector.')\n",
    "        for component in components:\n",
    "            if not isinstance(component, Real):\n",
    "                raise ValueError(f'Vector components must all be real numbers - {component} is invalid.')\n",
    "        \n",
    "        # use immutable storage for vector\n",
    "        self._components = tuple(components)\n",
    "        \n",
    "    def __len__(self):\n",
    "        return len(self._components)\n",
    "        \n",
    "    @property\n",
    "    def components(self):\n",
    "        return self._components\n",
    "    \n",
    "    def __repr__(self):\n",
    "        # works - but unwieldy for high dimension vectors\n",
    "        return f'Vector{self._components}'\n",
    "    \n",
    "    def validate_type_and_dimension(self, v):\n",
    "        return isinstance(v, Vector) and len(v) == len(self)\n",
    "            \n",
    "    def __add__(self, other):\n",
    "        if not self.validate_type_and_dimension(other):\n",
    "            return NotImplemented\n",
    "        components = (x + y for x, y in zip(self.components, other.components))\n",
    "        return Vector(*components)\n",
    "            \n",
    "    def __sub__(self, other):\n",
    "        if not self.validate_type_and_dimension(other):\n",
    "            return NotImplemented\n",
    "        components = (x - y for x, y in zip(self.components, other.components))\n",
    "        return Vector(*components)\n",
    "    \n",
    "    def __mul__(self, other):\n",
    "        print('__mul__ called...')\n",
    "        if isinstance(other, Real):\n",
    "            components = (other * x for x in self.components)\n",
    "            return Vector(*components)\n",
    "        if self.validate_type_and_dimension(other):\n",
    "            # dot product\n",
    "            components = (x * y for x, y in zip(self.components, other.components))\n",
    "            return sum(components)\n",
    "        return NotImplemented\n",
    "    \n",
    "    def __rmul__(self, other):\n",
    "        print('__rmul__ called...')\n",
    "        # for us, multiplication is commutative, so we can leverage our existing __mul__ method\n",
    "        return self * other\n",
    "    \n",
    "    def __matmul__(self, other):\n",
    "        print('__matmul__ called...')\n"
   ]
  },
  {
   "cell_type": "code",
   "execution_count": 20,
   "metadata": {},
   "outputs": [
    {
     "name": "stdout",
     "output_type": "stream",
     "text": [
      "__mul__ called...\n"
     ]
    },
    {
     "data": {
      "text/plain": [
       "23"
      ]
     },
     "execution_count": 20,
     "metadata": {},
     "output_type": "execute_result"
    }
   ],
   "source": [
    "v1 = Vector(2,3)\n",
    "v2 = Vector(4,5)\n",
    "\n",
    "v1*v2"
   ]
  },
  {
   "cell_type": "code",
   "execution_count": 21,
   "metadata": {},
   "outputs": [
    {
     "name": "stdout",
     "output_type": "stream",
     "text": [
      "__matmul__ called...\n"
     ]
    }
   ],
   "source": [
    "v1@v2"
   ]
  },
  {
   "cell_type": "markdown",
   "metadata": {},
   "source": [
    "##### In-Place Operators:\n",
    "\n",
    "We also have the in-place operators. Typically in-place operators will try to mutate the object on the left of the expression:"
   ]
  },
  {
   "cell_type": "code",
   "execution_count": 23,
   "metadata": {},
   "outputs": [],
   "source": [
    "l = [1, 2]"
   ]
  },
  {
   "cell_type": "code",
   "execution_count": 24,
   "metadata": {},
   "outputs": [
    {
     "data": {
      "text/plain": [
       "2069564774536"
      ]
     },
     "execution_count": 24,
     "metadata": {},
     "output_type": "execute_result"
    }
   ],
   "source": [
    "id(l)"
   ]
  },
  {
   "cell_type": "code",
   "execution_count": 26,
   "metadata": {},
   "outputs": [
    {
     "data": {
      "text/plain": [
       "(2069564774536, [1, 2, 3])"
      ]
     },
     "execution_count": 26,
     "metadata": {},
     "output_type": "execute_result"
    }
   ],
   "source": [
    "l += [3]\n",
    "id(l),l"
   ]
  },
  {
   "cell_type": "markdown",
   "metadata": {},
   "source": [
    "As you can see, the list l mas mutated (memory address remained the same). This is not the same effect as:"
   ]
  },
  {
   "cell_type": "code",
   "execution_count": 27,
   "metadata": {},
   "outputs": [
    {
     "name": "stdout",
     "output_type": "stream",
     "text": [
      "2069565519560\n",
      "2069563814088 [1, 2, 3]\n"
     ]
    }
   ],
   "source": [
    "l = [1, 2]\n",
    "print(id(l))\n",
    "\n",
    "l = l + [3]\n",
    "print(id(l), l)"
   ]
  },
  {
   "cell_type": "markdown",
   "metadata": {},
   "source": [
    "As you can see, here we ended up with a **new** list object.\n",
    "\n",
    "But in-place does not guarantee a mutation. For example, tuples are immutable objects:"
   ]
  },
  {
   "cell_type": "code",
   "execution_count": 29,
   "metadata": {},
   "outputs": [
    {
     "name": "stdout",
     "output_type": "stream",
     "text": [
      "2069563356040\n",
      "2069565509776 (1, 2, 3)\n"
     ]
    }
   ],
   "source": [
    "t = (1, 2)\n",
    "print(id(t))\n",
    "t += (3, )\n",
    "print(id(t), t)"
   ]
  },
  {
   "cell_type": "markdown",
   "metadata": {},
   "source": [
    "As you can see we ended up with a new tuple. Same thing happens with strings, integers, floats and so on, that are also immutable types.\n",
    "\n",
    "Let's go back to our Vector class and implement in-place addition - but we'll implement it in such a way that we do not mutate the Vector, instead just returning a new Vector - similar to what we just saw with tuples:"
   ]
  },
  {
   "cell_type": "code",
   "execution_count": 30,
   "metadata": {},
   "outputs": [],
   "source": [
    "from numbers import Real\n",
    "\n",
    "class Vector:\n",
    "    def __init__(self, *components):\n",
    "        # validate number of components is at least one, and all of them are real numbers\n",
    "        if len(components) < 1:\n",
    "            raise ValueError('Cannot create an empty Vector.')\n",
    "        for component in components:\n",
    "            if not isinstance(component, Real):\n",
    "                raise ValueError(f'Vector components must all be real numbers - {component} is invalid.')\n",
    "        \n",
    "        # use immutable storage for vector\n",
    "        self._components = tuple(components)\n",
    "        \n",
    "    def __len__(self):\n",
    "        return len(self._components)\n",
    "        \n",
    "    @property\n",
    "    def components(self):\n",
    "        return self._components\n",
    "    \n",
    "    def __repr__(self):\n",
    "        # works - but unwieldy for high dimension vectors\n",
    "        return f'Vector{self._components}'\n",
    "    \n",
    "    def validate_type_and_dimension(self, v):\n",
    "        return isinstance(v, Vector) and len(v) == len(self)\n",
    "            \n",
    "    def __add__(self, other):\n",
    "        if not self.validate_type_and_dimension(other):\n",
    "            return NotImplemented\n",
    "        components = (x + y for x, y in zip(self.components, other.components))\n",
    "        return Vector(*components)\n",
    "            \n",
    "    def __sub__(self, other):\n",
    "        if not self.validate_type_and_dimension(other):\n",
    "            return NotImplemented\n",
    "        components = (x - y for x, y in zip(self.components, other.components))\n",
    "        return Vector(*components)\n",
    "    \n",
    "    def __mul__(self, other):\n",
    "        print('__mul__ called...')\n",
    "        if isinstance(other, Real):\n",
    "            components = (other * x for x in self.components)\n",
    "            return Vector(*components)\n",
    "        if self.validate_type_and_dimension(other):\n",
    "            # dot product\n",
    "            components = (x * y for x, y in zip(self.components, other.components))\n",
    "            return sum(components)\n",
    "        return NotImplemented\n",
    "    \n",
    "    def __rmul__(self, other):\n",
    "        print('__rmul__ called...')\n",
    "        # for us, multiplication is commutative, so we can leverage our existing __mul__ method\n",
    "        return self * other\n",
    "    \n",
    "    def __iadd__(self, other):\n",
    "        print('__radd__ called...')\n",
    "        return self + other"
   ]
  },
  {
   "cell_type": "code",
   "execution_count": 31,
   "metadata": {},
   "outputs": [
    {
     "name": "stdout",
     "output_type": "stream",
     "text": [
      "2069565529504\n",
      "__radd__ called...\n",
      "2069565529224 Vector(11, 12)\n"
     ]
    }
   ],
   "source": [
    "v1 = Vector(1, 2)\n",
    "v2 = Vector(10, 10)\n",
    "\n",
    "print(id(v1))\n",
    "\n",
    "v1 += v2\n",
    "\n",
    "print(id(v1), v1)"
   ]
  },
  {
   "cell_type": "markdown",
   "metadata": {},
   "source": [
    "As you can see, we end up with a new Vector object.\n",
    "\n",
    "Now let's modify this so we actually mutate the Vector object:"
   ]
  },
  {
   "cell_type": "code",
   "execution_count": 33,
   "metadata": {},
   "outputs": [],
   "source": [
    "\n",
    "class Vector:\n",
    "    def __init__(self, *components):\n",
    "        # validate number of components is at least one, and all of them are real numbers\n",
    "        if len(components) < 1:\n",
    "            raise ValueError('Cannot create an empty Vector.')\n",
    "        for component in components:\n",
    "            if not isinstance(component, Real):\n",
    "                raise ValueError(f'Vector components must all be real numbers - {component} is invalid.')\n",
    "        \n",
    "        # use immutable storage for vector\n",
    "        self._components = tuple(components)\n",
    "        \n",
    "    def __len__(self):\n",
    "        return len(self._components)\n",
    "        \n",
    "    @property\n",
    "    def components(self):\n",
    "        return self._components\n",
    "    \n",
    "    def __repr__(self):\n",
    "        # works - but unwieldy for high dimension vectors\n",
    "        return f'Vector{self._components}'\n",
    "    \n",
    "    def validate_type_and_dimension(self, v):\n",
    "        return isinstance(v, Vector) and len(v) == len(self)\n",
    "            \n",
    "    def __add__(self, other):\n",
    "        if not self.validate_type_and_dimension(other):\n",
    "            return NotImplemented\n",
    "        components = (x + y for x, y in zip(self.components, other.components))\n",
    "        return Vector(*components)\n",
    "            \n",
    "    def __sub__(self, other):\n",
    "        if not self.validate_type_and_dimension(other):\n",
    "            return NotImplemented\n",
    "        components = (x - y for x, y in zip(self.components, other.components))\n",
    "        return Vector(*components)\n",
    "    \n",
    "    def __mul__(self, other):\n",
    "        print('__mul__ called...')\n",
    "        if isinstance(other, Real):\n",
    "            components = (other * x for x in self.components)\n",
    "            return Vector(*components)\n",
    "        if self.validate_type_and_dimension(other):\n",
    "            # dot product\n",
    "            components = (x * y for x, y in zip(self.components, other.components))\n",
    "            return sum(components)\n",
    "        return NotImplemented\n",
    "    \n",
    "    def __rmul__(self, other):\n",
    "        print('__rmul__ called...')\n",
    "        # for us, multiplication is commutative, so we can leverage our existing __mul__ method\n",
    "        return self * other\n",
    "    \n",
    "    def __iadd__(self, other):\n",
    "        print('__radd__ called...')\n",
    "        if self.validate_type_and_dimension(other):\n",
    "            components = (x + y for x, y in zip(self.components, other.components))\n",
    "            self._components = tuple(components)  # mutating our Vector object\n",
    "            return self # don't forget to return the result of the operation!\n",
    "        return NotImplemented"
   ]
  },
  {
   "cell_type": "code",
   "execution_count": 34,
   "metadata": {},
   "outputs": [
    {
     "name": "stdout",
     "output_type": "stream",
     "text": [
      "2069565471936\n",
      "__radd__ called...\n",
      "2069565471936 Vector(11, 22)\n"
     ]
    }
   ],
   "source": [
    "v1 = Vector(1, 2)\n",
    "v2 = Vector(10, 20)\n",
    "\n",
    "print(id(v1))\n",
    "\n",
    "v1 += v2\n",
    "\n",
    "print(id(v1), v1)"
   ]
  },
  {
   "cell_type": "markdown",
   "metadata": {},
   "source": [
    "\n",
    "As you can see we mutated the object v1.\n",
    "\n",
    "Let's also implement the **unary minus** on our Vector class. In this case we just want to return a new Vector with each component negated:"
   ]
  },
  {
   "cell_type": "code",
   "execution_count": 35,
   "metadata": {},
   "outputs": [],
   "source": [
    "\n",
    "class Vector:\n",
    "    def __init__(self, *components):\n",
    "        # validate number of components is at least one, and all of them are real numbers\n",
    "        if len(components) < 1:\n",
    "            raise ValueError('Cannot create an empty Vector.')\n",
    "        for component in components:\n",
    "            if not isinstance(component, Real):\n",
    "                raise ValueError(f'Vector components must all be real numbers - {component} is invalid.')\n",
    "        \n",
    "        # use immutable storage for vector\n",
    "        self._components = tuple(components)\n",
    "        \n",
    "    def __len__(self):\n",
    "        return len(self._components)\n",
    "        \n",
    "    @property\n",
    "    def components(self):\n",
    "        return self._components\n",
    "    \n",
    "    def __repr__(self):\n",
    "        # works - but unwieldy for high dimension vectors\n",
    "        return f'Vector{self._components}'\n",
    "    \n",
    "    def validate_type_and_dimension(self, v):\n",
    "        return isinstance(v, Vector) and len(v) == len(self)\n",
    "            \n",
    "    def __add__(self, other):\n",
    "        if not self.validate_type_and_dimension(other):\n",
    "            return NotImplemented\n",
    "        components = (x + y for x, y in zip(self.components, other.components))\n",
    "        return Vector(*components)\n",
    "            \n",
    "    def __sub__(self, other):\n",
    "        if not self.validate_type_and_dimension(other):\n",
    "            return NotImplemented\n",
    "        components = (x - y for x, y in zip(self.components, other.components))\n",
    "        return Vector(*components)\n",
    "    \n",
    "    def __mul__(self, other):\n",
    "        print('__mul__ called...')\n",
    "        if isinstance(other, Real):\n",
    "            components = (other * x for x in self.components)\n",
    "            return Vector(*components)\n",
    "        if self.validate_type_and_dimension(other):\n",
    "            # dot product\n",
    "            components = (x * y for x, y in zip(self.components, other.components))\n",
    "            return sum(components)\n",
    "        return NotImplemented\n",
    "    \n",
    "    def __rmul__(self, other):\n",
    "        print('__rmul__ called...')\n",
    "        # for us, multiplication is commutative, so we can leverage our existing __mul__ method\n",
    "        return self * other\n",
    "    \n",
    "    def __iadd__(self, other):\n",
    "        print('__radd__ called...')\n",
    "        if self.validate_type_and_dimension(other):\n",
    "            components = (x + y for x, y in zip(self.components, other.components))\n",
    "            self._components = tuple(components)  # mutating our Vector object\n",
    "            return self # don't forget to return the result of the operation!\n",
    "        return NotImplemented\n",
    "        \n",
    "    def __neg__(self):\n",
    "        print('__neg__ called...')\n",
    "        components = (-x for x in self.components)\n",
    "        return Vector(*components)\n"
   ]
  },
  {
   "cell_type": "code",
   "execution_count": 37,
   "metadata": {},
   "outputs": [
    {
     "name": "stdout",
     "output_type": "stream",
     "text": [
      "__neg__ called...\n"
     ]
    },
    {
     "data": {
      "text/plain": [
       "Vector(-10, -20)"
      ]
     },
     "execution_count": 37,
     "metadata": {},
     "output_type": "execute_result"
    }
   ],
   "source": [
    "v = Vector(10,20)\n",
    "-v"
   ]
  },
  {
   "cell_type": "code",
   "execution_count": 38,
   "metadata": {},
   "outputs": [
    {
     "name": "stdout",
     "output_type": "stream",
     "text": [
      "__neg__ called...\n"
     ]
    },
    {
     "data": {
      "text/plain": [
       "Vector(0, -10)"
      ]
     },
     "execution_count": 38,
     "metadata": {},
     "output_type": "execute_result"
    }
   ],
   "source": [
    "\n",
    "v2 = Vector(10, 10)\n",
    "\n",
    "v2 + -v"
   ]
  },
  {
   "cell_type": "markdown",
   "metadata": {},
   "source": [
    "Lastly, let's implement the abs function for our Vector. Right now it won't work:\n",
    "\n"
   ]
  },
  {
   "cell_type": "code",
   "execution_count": 39,
   "metadata": {},
   "outputs": [
    {
     "ename": "TypeError",
     "evalue": "bad operand type for abs(): 'Vector'",
     "output_type": "error",
     "traceback": [
      "\u001b[1;31m---------------------------------------------------------------------------\u001b[0m",
      "\u001b[1;31mTypeError\u001b[0m                                 Traceback (most recent call last)",
      "\u001b[1;32m<ipython-input-39-a3a1805f6423>\u001b[0m in \u001b[0;36m<module>\u001b[1;34m\u001b[0m\n\u001b[1;32m----> 1\u001b[1;33m \u001b[0mabs\u001b[0m\u001b[1;33m(\u001b[0m\u001b[0mv1\u001b[0m\u001b[1;33m)\u001b[0m\u001b[1;33m\u001b[0m\u001b[1;33m\u001b[0m\u001b[0m\n\u001b[0m",
      "\u001b[1;31mTypeError\u001b[0m: bad operand type for abs(): 'Vector'"
     ]
    }
   ],
   "source": [
    "abs(v1)"
   ]
  },
  {
   "cell_type": "code",
   "execution_count": 40,
   "metadata": {},
   "outputs": [],
   "source": [
    "from numbers import Real\n",
    "from math import sqrt\n",
    "\n",
    "class Vector:\n",
    "    def __init__(self, *components):\n",
    "        # validate number of components is at least one, and all of them are real numbers\n",
    "        if len(components) < 1:\n",
    "            raise ValueError('Cannot create an empty Vector.')\n",
    "        for component in components:\n",
    "            if not isinstance(component, Real):\n",
    "                raise ValueError(f'Vector components must all be real numbers - {component} is invalid.')\n",
    "        \n",
    "        # use immutable storage for vector\n",
    "        self._components = tuple(components)\n",
    "        \n",
    "    def __len__(self):\n",
    "        return len(self._components)\n",
    "        \n",
    "    @property\n",
    "    def components(self):\n",
    "        return self._components\n",
    "    \n",
    "    def __repr__(self):\n",
    "        # works - but unwieldy for high dimension vectors\n",
    "        return f'Vector{self._components}'\n",
    "    \n",
    "    def validate_type_and_dimension(self, v):\n",
    "        return isinstance(v, Vector) and len(v) == len(self)\n",
    "            \n",
    "    def __add__(self, other):\n",
    "        if not self.validate_type_and_dimension(other):\n",
    "            return NotImplemented\n",
    "        components = (x + y for x, y in zip(self.components, other.components))\n",
    "        return Vector(*components)\n",
    "            \n",
    "    def __sub__(self, other):\n",
    "        if not self.validate_type_and_dimension(other):\n",
    "            return NotImplemented\n",
    "        components = (x - y for x, y in zip(self.components, other.components))\n",
    "        return Vector(*components)\n",
    "    \n",
    "    def __mul__(self, other):\n",
    "        print('__mul__ called...')\n",
    "        if isinstance(other, Real):\n",
    "            components = (other * x for x in self.components)\n",
    "            return Vector(*components)\n",
    "        if self.validate_type_and_dimension(other):\n",
    "            # dot product\n",
    "            components = (x * y for x, y in zip(self.components, other.components))\n",
    "            return sum(components)\n",
    "        return NotImplemented\n",
    "    \n",
    "    def __rmul__(self, other):\n",
    "        print('__rmul__ called...')\n",
    "        # for us, multiplication is commutative, so we can leverage our existing __mul__ method\n",
    "        return self * other\n",
    "    \n",
    "    def __iadd__(self, other):\n",
    "        print('__radd__ called...')\n",
    "        if self.validate_type_and_dimension(other):\n",
    "            components = (x + y for x, y in zip(self.components, other.components))\n",
    "            self._components = tuple(components)  # mutating our Vector object\n",
    "            return self # don't forget to return the result of the operation!\n",
    "        return NotImplemented\n",
    "        \n",
    "    def __neg__(self):\n",
    "        print('__neg__ called...')\n",
    "        components = (-x for x in self.components)\n",
    "        return Vector(*components)\n",
    "    \n",
    "    def __abs__(self):\n",
    "        print('__abs__ called...')\n",
    "        return sqrt(sum(x ** 2 for x in self.components))\n"
   ]
  },
  {
   "cell_type": "code",
   "execution_count": 41,
   "metadata": {},
   "outputs": [],
   "source": [
    "v1 = Vector(1, 2)"
   ]
  },
  {
   "cell_type": "code",
   "execution_count": 42,
   "metadata": {},
   "outputs": [
    {
     "name": "stdout",
     "output_type": "stream",
     "text": [
      "__abs__ called...\n"
     ]
    },
    {
     "data": {
      "text/plain": [
       "2.23606797749979"
      ]
     },
     "execution_count": 42,
     "metadata": {},
     "output_type": "execute_result"
    }
   ],
   "source": [
    "abs(v1)"
   ]
  },
  {
   "cell_type": "markdown",
   "metadata": {},
   "source": [
    "\n",
    "##### Other Uses\n",
    "\n",
    "Of course, these arithmetic operators are not restricted to working with numbers. We've seen them work with strings as well for example, or lists even.\n",
    "\n",
    "We can also use them in our custom classes in different ways where we want to implement and attach special meaning to these operators.\n",
    "\n",
    "For example, we might have a Family class that holds together:\n",
    "\n",
    "mother and father Person objects\n",
    "a list of children Person objects\n",
    "We want to make it such that we can add children simply by using inplace addition."
   ]
  },
  {
   "cell_type": "code",
   "execution_count": 46,
   "metadata": {},
   "outputs": [],
   "source": [
    "class Person:    \n",
    "    def __init__(self, name):\n",
    "        self.name = name\n",
    "        \n",
    "    def __repr__(self):\n",
    "        return f\"Person('{self.name}')\""
   ]
  },
  {
   "cell_type": "code",
   "execution_count": 47,
   "metadata": {},
   "outputs": [],
   "source": [
    "\n",
    "class Family:\n",
    "    def __init__(self, mother, father):\n",
    "        self.mother = mother\n",
    "        self.father = father\n",
    "        self.children = []\n",
    "        \n",
    "    def __iadd__(self, other):\n",
    "        self.children.append(other)\n",
    "        return self"
   ]
  },
  {
   "cell_type": "code",
   "execution_count": 48,
   "metadata": {},
   "outputs": [
    {
     "name": "stdout",
     "output_type": "stream",
     "text": [
      "2069565604528\n"
     ]
    }
   ],
   "source": [
    "f = Family(Person('Mary'), Person('John'))\n",
    "print(id(f))"
   ]
  },
  {
   "cell_type": "code",
   "execution_count": 49,
   "metadata": {},
   "outputs": [
    {
     "name": "stdout",
     "output_type": "stream",
     "text": [
      "2069565604528\n",
      "[Person('Eric')]\n"
     ]
    }
   ],
   "source": [
    "f += Person('Eric')\n",
    "print(id(f))\n",
    "print(f.children)"
   ]
  },
  {
   "cell_type": "code",
   "execution_count": 50,
   "metadata": {},
   "outputs": [
    {
     "name": "stdout",
     "output_type": "stream",
     "text": [
      "2069565604528\n",
      "[Person('Eric'), Person('Michael')]\n"
     ]
    }
   ],
   "source": [
    "f += Person('Michael')\n",
    "print(id(f))\n",
    "print(f.children)"
   ]
  },
  {
   "cell_type": "markdown",
   "metadata": {},
   "source": [
    "So, don't feel restricted to using these operators for numerical use cases only."
   ]
  },
  {
   "cell_type": "code",
   "execution_count": null,
   "metadata": {},
   "outputs": [],
   "source": []
  }
 ],
 "metadata": {
  "kernelspec": {
   "display_name": "Python 3",
   "language": "python",
   "name": "python3"
  },
  "language_info": {
   "codemirror_mode": {
    "name": "ipython",
    "version": 3
   },
   "file_extension": ".py",
   "mimetype": "text/x-python",
   "name": "python",
   "nbconvert_exporter": "python",
   "pygments_lexer": "ipython3",
   "version": "3.7.2"
  }
 },
 "nbformat": 4,
 "nbformat_minor": 2
}
